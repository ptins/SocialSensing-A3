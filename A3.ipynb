{
 "cells": [
  {
   "cell_type": "code",
   "execution_count": 1,
   "metadata": {},
   "outputs": [],
   "source": [
    "import json\n",
    "import sys, operator"
   ]
  },
  {
   "cell_type": "code",
   "execution_count": 2,
   "metadata": {},
   "outputs": [],
   "source": [
    "def readSensingMatrix(filename):\n",
    "    matrix = {}\n",
    "    f = open(filename, 'r')\n",
    "    for line in f:\n",
    "        source_id, measured_variable_id = [int(x) for x in line.split(',')]\n",
    "        if source_id not in matrix:\n",
    "            matrix[source_id] = {}\n",
    "        matrix[source_id][measured_variable_id] = 1\n",
    "    f.close()\n",
    "    return matrix"
   ]
  },
  {
   "cell_type": "markdown",
   "metadata": {},
   "source": [
    "## Task 1"
   ]
  },
  {
   "cell_type": "code",
   "execution_count": 3,
   "metadata": {},
   "outputs": [],
   "source": [
    "GROUND_TRUTH_FILE = './GroundTruth_File'\n",
    "SENSING_MATRIX_FILE = './SCMatrix_Test1'\n",
    "# SENSING_MATRIX_FILE = './SCMatrix_Test2'\n",
    "# SENSING_MATRIX_FILE = './SCMatrix_Test3'"
   ]
  },
  {
   "cell_type": "code",
   "execution_count": 4,
   "metadata": {},
   "outputs": [],
   "source": [
    "matrix = readSensingMatrix(SENSING_MATRIX_FILE)"
   ]
  },
  {
   "cell_type": "code",
   "execution_count": 5,
   "metadata": {},
   "outputs": [
    {
     "name": "stdout",
     "output_type": "stream",
     "text": [
      "\n",
      "#Correct: 2000, #Incorrect: 0\n",
      "\n"
     ]
    }
   ],
   "source": [
    "from Task1 import TruthDiscovery\n",
    "\n",
    "td = TruthDiscovery(matrix)\n",
    "td.mle()\n",
    "td.verify(GROUND_TRUTH_FILE)"
   ]
  },
  {
   "cell_type": "markdown",
   "metadata": {},
   "source": [
    "## Task 2"
   ]
  },
  {
   "cell_type": "code",
   "execution_count": 6,
   "metadata": {},
   "outputs": [],
   "source": [
    "TWEETS_FILE = './Tweets.txt'\n",
    "CLUSTERS_FILE = './Cluster_Results.txt'\n",
    "SENSING_MATRIX_FILE = './SCMatrix_Task2'\n",
    "OUTPUT_PROBS_FILE = './Task2_Probs.txt'"
   ]
  },
  {
   "cell_type": "code",
   "execution_count": 7,
   "metadata": {},
   "outputs": [
    {
     "name": "stdout",
     "output_type": "stream",
     "text": [
      "\n",
      "Successfully wrote probabilities to ./Task2_Probs.txt\n",
      "\n"
     ]
    }
   ],
   "source": [
    "from Task2 import loadJsonTwitter, loadClusterResults, writeSensMatrixFile\n",
    "\n",
    "tweets = loadJsonTwitter(TWEETS_FILE)\n",
    "clusters = loadClusterResults(CLUSTERS_FILE)\n",
    "writeSensMatrixFile(tweets, clusters, SENSING_MATRIX_FILE)\n",
    "\n",
    "matrix = readSensingMatrix(SENSING_MATRIX_FILE)\n",
    "\n",
    "td = TruthDiscovery(matrix)\n",
    "td.mle()\n",
    "td.writeProbs(OUTPUT_PROBS_FILE)"
   ]
  },
  {
   "cell_type": "code",
   "execution_count": null,
   "metadata": {},
   "outputs": [],
   "source": []
  }
 ],
 "metadata": {
  "kernelspec": {
   "display_name": "Python 3",
   "language": "python",
   "name": "python3"
  },
  "language_info": {
   "codemirror_mode": {
    "name": "ipython",
    "version": 3
   },
   "file_extension": ".py",
   "mimetype": "text/x-python",
   "name": "python",
   "nbconvert_exporter": "python",
   "pygments_lexer": "ipython3",
   "version": "3.6.4"
  }
 },
 "nbformat": 4,
 "nbformat_minor": 2
}
